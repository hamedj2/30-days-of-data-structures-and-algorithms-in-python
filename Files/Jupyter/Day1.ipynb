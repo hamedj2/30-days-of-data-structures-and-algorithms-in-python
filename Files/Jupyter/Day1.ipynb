{
 "cells": [
  {
   "cell_type": "code",
   "execution_count": 13,
   "id": "bf083a0b-7bc1-4b53-8d74-565de088e030",
   "metadata": {},
   "outputs": [],
   "source": [
    "name = 'Hamed'\n",
    "last_name = \"Jalali\"\n",
    "nick_name = \"\"\"hami\"\"\""
   ]
  },
  {
   "cell_type": "code",
   "execution_count": 14,
   "id": "a800eed6-bf9e-4b84-a4a3-6e9ce88246b7",
   "metadata": {},
   "outputs": [
    {
     "name": "stdout",
     "output_type": "stream",
     "text": [
      "the first name is Hamed\n",
      "the last name is Jalali\n",
      "the full name is Hamed Jalali\n",
      "the nick name is hami\n"
     ]
    }
   ],
   "source": [
    "print(f\"the first name is {name}\")\n",
    "print(f\"the last name is {last_name}\")\n",
    "print(f\"the full name is {name} {last_name}\")\n",
    "print(f\"the nick name is {nick_name}\")"
   ]
  },
  {
   "cell_type": "code",
   "execution_count": 8,
   "id": "e5017c39-ccc0-41e6-b596-8d8570ba6959",
   "metadata": {},
   "outputs": [
    {
     "name": "stdout",
     "output_type": "stream",
     "text": [
      "Jalali\n"
     ]
    }
   ],
   "source": [
    "print(name2)"
   ]
  },
  {
   "cell_type": "code",
   "execution_count": 15,
   "id": "bf86895b-afb8-4b59-95ef-29ea945dd188",
   "metadata": {},
   "outputs": [
    {
     "name": "stdout",
     "output_type": "stream",
     "text": [
      "Hamed Jalali\n"
     ]
    }
   ],
   "source": [
    "print(name3)"
   ]
  }
 ],
 "metadata": {
  "kernelspec": {
   "display_name": "Python 3 (ipykernel)",
   "language": "python",
   "name": "python3"
  },
  "language_info": {
   "codemirror_mode": {
    "name": "ipython",
    "version": 3
   },
   "file_extension": ".py",
   "mimetype": "text/x-python",
   "name": "python",
   "nbconvert_exporter": "python",
   "pygments_lexer": "ipython3",
   "version": "3.11.6"
  }
 },
 "nbformat": 4,
 "nbformat_minor": 5
}

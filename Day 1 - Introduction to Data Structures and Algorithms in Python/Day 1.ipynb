{
 "cells": [
  {
   "cell_type": "markdown",
   "id": "4e9daecd-ec15-4c58-92c2-e3ab3b1fc76b",
   "metadata": {},
   "source": [
    "# Day 1"
   ]
  },
  {
   "cell_type": "markdown",
   "id": "0c61a7d9-0a2a-4c60-a31d-29ab1e084103",
   "metadata": {},
   "source": [
    "## Arithmetic Operations"
   ]
  },
  {
   "cell_type": "code",
   "execution_count": 7,
   "id": "af2870c0-2e98-4533-bb8e-1bbb24b69afc",
   "metadata": {},
   "outputs": [
    {
     "name": "stdout",
     "output_type": "stream",
     "text": [
      "Addition -> 5 + 3 = 8\n",
      "Subtraction -> 10 - 2 = 8\n",
      "Multiplication -> 4 * 2 = 8\n",
      "Division -> 16 / 2 = 8.0\n",
      "Floor Division -> 17 // 2 = 8\n",
      "Modulus -> 18 % 10 = 8\n",
      "Exponentiation -> 2 ** 3 = 8\n"
     ]
    }
   ],
   "source": [
    "print(f'Addition -> 5 + 3 = {5 + 3}') \n",
    "print(f'Subtraction -> 10 - 2 = {10 - 2}') \n",
    "print(f'Multiplication -> 4 * 2 = {4 * 2}') \n",
    "print(f'Division -> 16 / 2 = {16 / 2}') \n",
    "print(f'Floor Division -> 17 // 2 = {17 // 2}')  \n",
    "print(f'Modulus -> 18 % 10 = {18 % 10}')  \n",
    "print(f'Exponentiation -> 2 ** 3 = {2 ** 3}')  "
   ]
  },
  {
   "cell_type": "markdown",
   "id": "26655c4a-f88d-4c85-8d65-6f8dff8fd765",
   "metadata": {},
   "source": [
    "## Comparison Operations"
   ]
  },
  {
   "cell_type": "code",
   "execution_count": 8,
   "id": "d33113d3-3c0f-4f15-9d31-95779dd38e61",
   "metadata": {},
   "outputs": [
    {
     "name": "stdout",
     "output_type": "stream",
     "text": [
      "Equal -> 8 == 8 is True\n",
      "Not Equal -> 7 != 8 is True\n",
      "Greater Than -> 9 > 8 is True\n",
      "Less Than -> 7 < 8 is True\n",
      "Greater Than or Equal To -> 8 >= 8 is True\n",
      "Less Than or Equal To -> 8 <= 8 is True\n"
     ]
    }
   ],
   "source": [
    "print(f'Equal -> 8 == 8 is {8 == 8}') \n",
    "print(f'Not Equal -> 7 != 8 is {7 != 8}') \n",
    "print(f'Greater Than -> 9 > 8 is {9 > 8}') \n",
    "print(f'Less Than -> 7 < 8 is {7 < 8}') \n",
    "print(f'Greater Than or Equal To -> 8 >= 8 is {8 >= 8}')  \n",
    "print(f'Less Than or Equal To -> 8 <= 8 is {8 <= 8}')  "
   ]
  },
  {
   "cell_type": "markdown",
   "id": "9198a788-4626-4400-8701-80b3626de7a3",
   "metadata": {},
   "source": [
    "## Logical Operations"
   ]
  },
  {
   "cell_type": "code",
   "execution_count": 9,
   "id": "7377b7de-8a0e-4949-bf37-416831bc28f3",
   "metadata": {},
   "outputs": [
    {
     "name": "stdout",
     "output_type": "stream",
     "text": [
      "and -> True and False is False\n",
      "or -> True or False is True\n",
      "not -> not True is False\n"
     ]
    }
   ],
   "source": [
    "print(f'and -> True and False is {True and False}') \n",
    "print(f'or -> True or False is {True or False}') \n",
    "print(f'not -> not True is {not True}') "
   ]
  },
  {
   "cell_type": "markdown",
   "id": "6c00182e-60fc-44ef-bdae-2a9f3bb4362d",
   "metadata": {},
   "source": [
    "## Bitwise Operations"
   ]
  },
  {
   "cell_type": "code",
   "execution_count": 10,
   "id": "d4ba1d67-a2b0-4a1c-afcd-2633c58bde53",
   "metadata": {},
   "outputs": [
    {
     "name": "stdout",
     "output_type": "stream",
     "text": [
      "AND -> 5 & 3 = 1\n",
      "OR -> 5 | 3 = 7\n",
      "XOR -> 5 ^ 3 = 6\n",
      "NOT -> ~5 = -6\n",
      "Left Shift -> 5 << 1 = 10\n",
      "Right Shift -> 5 >> 1 = 2\n"
     ]
    }
   ],
   "source": [
    "print(f'AND -> 5 & 3 = {5 & 3}') \n",
    "print(f'OR -> 5 | 3 = {5 | 3}') \n",
    "print(f'XOR -> 5 ^ 3 = {5 ^ 3}') \n",
    "print(f'NOT -> ~5 = {~5}') \n",
    "print(f'Left Shift -> 5 << 1 = {5 << 1}')  \n",
    "print(f'Right Shift -> 5 >> 1 = {5 >> 1}')    "
   ]
  }
 ],
 "metadata": {
  "kernelspec": {
   "display_name": "Python 3 (ipykernel)",
   "language": "python",
   "name": "python3"
  },
  "language_info": {
   "codemirror_mode": {
    "name": "ipython",
    "version": 3
   },
   "file_extension": ".py",
   "mimetype": "text/x-python",
   "name": "python",
   "nbconvert_exporter": "python",
   "pygments_lexer": "ipython3",
   "version": "3.11.6"
  }
 },
 "nbformat": 4,
 "nbformat_minor": 5
}
